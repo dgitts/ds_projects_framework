{
 "cells": [
  {
   "cell_type": "markdown",
   "metadata": {},
   "source": [
    "# Getting started \n",
    "\n",
    "The first thing you need to do is to create a virtual environment. \n",
    "\n",
    "You can create a virtual enviroment either in: \n",
    "\n",
    "1) Virtual env \n",
    "2) Conda\n",
    "\n",
    "\n",
    "\n"
   ]
  },
  {
   "cell_type": "markdown",
   "metadata": {},
   "source": [
    "## Creating a virtual environment using virtual env\n",
    "**--add text here--**"
   ]
  },
  {
   "cell_type": "markdown",
   "metadata": {},
   "source": [
    "## Creating a virtual environment using conda\n",
    "**--add text here--**"
   ]
  },
  {
   "cell_type": "markdown",
   "metadata": {},
   "source": [
    "\n",
    "Once you have done that and run \n",
    "\n",
    "``` pip install -r requirements.txt``` \n",
    "\n",
    "to install the relevant libraries. Once you have all the libraries you can start by  reading through the following: \n",
    "\n",
    "1) Structing your Project\n",
    "2) Jupyter notebook and Python guide"
   ]
  },
  {
   "cell_type": "markdown",
   "metadata": {},
   "source": [
    "If you are working alone then create a separate directory in this directory to with your name and store all your jupyter notebooks there. Once you are done writing the content, then add the content to ```main.ipynb```. \n",
    "\n",
    "If you are working in a team then create a directory for each writer. This directory will be your personal directory.  Work on notebooks in your personal directory and add them to ```main.ipynb```. \n"
   ]
  },
  {
   "cell_type": "code",
   "execution_count": null,
   "metadata": {},
   "outputs": [],
   "source": []
  }
 ],
 "metadata": {
  "kernelspec": {
   "display_name": "Python 3",
   "language": "python",
   "name": "python3"
  },
  "language_info": {
   "codemirror_mode": {
    "name": "ipython",
    "version": 3
   },
   "file_extension": ".py",
   "mimetype": "text/x-python",
   "name": "python",
   "nbconvert_exporter": "python",
   "pygments_lexer": "ipython3",
   "version": "3.7.6"
  }
 },
 "nbformat": 4,
 "nbformat_minor": 4
}
